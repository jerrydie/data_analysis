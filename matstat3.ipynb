{
 "cells": [
  {
   "cell_type": "markdown",
   "metadata": {},
   "source": [
    "# Домашнее задание 3.3\n",
    "## Работа с данными\n",
    "### выполнила Щеглова Полина, СКБ172\n",
    "\n",
    "В данном задании проведем анализ реальных данных. Воспользуемся основной интерпретацией гипергеометрического распределения - выборки из генеральной совокупности. Проще говоря, в терминах используемых далее данных, имея исходы 600 партий для игрока, мы берем выборки размера 100 партий и смотрим какова вероятность, что игрок проиграл/выиграл в ровно $x$ из них.\n",
    "Типичная интерпретация - основа любой нетипичной интерпретации, поэтому для дальнейшей успешной работы с чем-то более сложным, стоит сначала разобраться с более простым."
   ]
  },
  {
   "cell_type": "code",
   "execution_count": 63,
   "metadata": {},
   "outputs": [
    {
     "name": "stdout",
     "output_type": "stream",
     "text": [
      "303\n"
     ]
    }
   ],
   "source": [
    "import pandas as pd\n",
    "import numpy as np\n",
    "import matplotlib.pyplot as plt\n",
    "\n",
    "r = (open('win-loss.csv', 'r', encoding='utf-8').read()).split('\\n')\n",
    "df = pd.Series( list(map(int,r)) ) # 0-победа, 1-проигрыш\n",
    "df\n",
    "print(600 - np.sum(df))# узнаем суммарное количество выигрышей"
   ]
  },
  {
   "cell_type": "code",
   "execution_count": 65,
   "metadata": {},
   "outputs": [
    {
     "name": "stdout",
     "output_type": "stream",
     "text": [
      "49.94 44.95078976640701\n"
     ]
    }
   ],
   "source": [
    "from functools import reduce\n",
    "win_sum = [] #будем брать выборки размера 100 и считать суммарное количество выигрышей в каждой выборке.\n",
    "# так как возможных сочетаний Binomial[600,100], можно взять 900 вариантов сочетаний и посчитать для каждого сумму выигрышей\n",
    "for i in np.arange(100):\n",
    "    \n",
    "    win_sum.append(100 - np.sum(df[i:i+100]))\n",
    "    win_sum.append(100 - np.sum(df[50+i:i+150]))\n",
    "    win_sum.append(100 - np.sum(df[200+i:i+300]))\n",
    "    win_sum.append(100 - np.sum(df[250+i:i+350]))\n",
    "    win_sum.append(100 - np.sum(df[400+i:i+500]))\n",
    "    win_sum.append(100 - np.sum(df[100+i:i+200]))\n",
    "    win_sum.append(100 - np.sum(df[150+i:i+250]))\n",
    "    win_sum.append(100 - np.sum(df[300+i:i+400]))\n",
    "    win_sum.append(100 - np.sum(df[350+i:i+450]))\n",
    "    \n",
    "            \n",
    "def sample_mean(array_):\n",
    "    sample_=len(array_)\n",
    "    return reduce(lambda a,b : a+b, array_)/sample_\n",
    "def sample_variance(array_):\n",
    "    sample_=len(array_)\n",
    "    sample_mean_ = sample_mean(array_)\n",
    "    return reduce(lambda a,b : a+b, list(map(lambda j: (j-sample_mean_)**2, array_)))/(sample_-1)\n",
    "\n",
    "print(sample_mean(win_sum), sample_variance(win_sum))"
   ]
  },
  {
   "cell_type": "code",
   "execution_count": 64,
   "metadata": {},
   "outputs": [
    {
     "data": {
      "image/png": "[encoded data removed]",
      "text/plain": [
       "<Figure size 432x288 with 1 Axes>"
      ]
     },
     "metadata": {
      "needs_background": "light"
     },
     "output_type": "display_data"
    }
   ],
   "source": [
    "plt.hist(win_sum, bins=30)\n",
    "plt.show()"
   ]
  },
  {
   "cell_type": "code",
   "execution_count": null,
   "metadata": {},
   "outputs": [],
   "source": []
  }
 ],
 "metadata": {
  "kernelspec": {
   "display_name": "Python 3",
   "language": "python",
   "name": "python3"
  },
  "language_info": {
   "codemirror_mode": {
    "name": "ipython",
    "version": 3
   },
   "file_extension": ".py",
   "mimetype": "text/x-python",
   "name": "python",
   "nbconvert_exporter": "python",
   "pygments_lexer": "ipython3",
   "version": "3.7.3"
  }
 },
 "nbformat": 4,
 "nbformat_minor": 2
}
